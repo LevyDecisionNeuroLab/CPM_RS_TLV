{
 "cells": [
  {
   "cell_type": "code",
   "execution_count": 1,
   "id": "b0539abe-6382-47ea-9260-8b03e4abad25",
   "metadata": {},
   "outputs": [],
   "source": [
    "# example on one file"
   ]
  },
  {
   "cell_type": "code",
   "execution_count": 80,
   "id": "0c371ffa-3cbe-4231-bfd9-6c02e1d03be3",
   "metadata": {},
   "outputs": [],
   "source": [
    "import pandas as pd\n",
    "import os\n",
    "import glob\n",
    "import numpy as np"
   ]
  },
  {
   "cell_type": "code",
   "execution_count": 46,
   "id": "4b310673-1e1f-4c3b-bf28-c74e94dfa67d",
   "metadata": {},
   "outputs": [],
   "source": [
    "file = '/gpfs/gibbs/pi/levy_ifat/Ziv/NIH-PTSD_Rest/derivatives/fmriprep/sub-0216/ses-1/func/sub-0216_ses-1_task-rest_space-MNI152NLin2009cAsym_desc-smoothAROMAnonaggr_bold.nii.gz'\n",
    "conf_file = '/gpfs/gibbs/pi/levy_ifat/Ziv/NIH-PTSD_Rest/derivatives/fmriprep/sub-0216/ses-1/func/sub-0216_ses-1_task-rest_desc-confounds_regressors.tsv'\n"
   ]
  },
  {
   "cell_type": "code",
   "execution_count": 47,
   "id": "7ebaceca-45b1-4739-8764-e1c1eb16bf18",
   "metadata": {},
   "outputs": [],
   "source": [
    "# need to grab fmriPrep file and cut it into two: censor (all non-steady states) and or (white matter, global signal and CSF)\n",
    "confound_file = pd.read_csv(conf_file, sep='\\t')"
   ]
  },
  {
   "cell_type": "code",
   "execution_count": 24,
   "id": "fcc6e442-7f62-4eef-8ac0-d2ce91de3cb5",
   "metadata": {},
   "outputs": [
    {
     "data": {
      "text/plain": [
       "Index(['csf', 'white_matter', 'global_signal', 'std_dvars', 'dvars',\n",
       "       'framewise_displacement', 't_comp_cor_00', 't_comp_cor_01',\n",
       "       't_comp_cor_02', 't_comp_cor_03', 't_comp_cor_04', 't_comp_cor_05',\n",
       "       'a_comp_cor_00', 'a_comp_cor_01', 'a_comp_cor_02', 'a_comp_cor_03',\n",
       "       'a_comp_cor_04', 'a_comp_cor_05', 'cosine00', 'cosine01', 'cosine02',\n",
       "       'cosine03', 'cosine04', 'cosine05', 'cosine06', 'cosine07',\n",
       "       'non_steady_state_outlier00', 'trans_x', 'trans_y', 'trans_z', 'rot_x',\n",
       "       'rot_y', 'rot_z', 'aroma_motion_01', 'aroma_motion_02',\n",
       "       'aroma_motion_03', 'aroma_motion_04', 'aroma_motion_05',\n",
       "       'aroma_motion_06', 'aroma_motion_07', 'aroma_motion_08',\n",
       "       'aroma_motion_09', 'aroma_motion_10', 'aroma_motion_12',\n",
       "       'aroma_motion_13', 'aroma_motion_17', 'aroma_motion_18',\n",
       "       'aroma_motion_19', 'aroma_motion_20', 'aroma_motion_26',\n",
       "       'aroma_motion_27', 'aroma_motion_29', 'aroma_motion_30'],\n",
       "      dtype='object')"
      ]
     },
     "execution_count": 24,
     "metadata": {},
     "output_type": "execute_result"
    }
   ],
   "source": [
    "confound_file.columns"
   ]
  },
  {
   "cell_type": "code",
   "execution_count": 48,
   "id": "02c1a1ab-a10e-4a06-9413-86c1ebd8a238",
   "metadata": {},
   "outputs": [],
   "source": [
    "# grab just the non steady states\n",
    "col = confound_file.columns[confound_file.columns.str.startswith('non_steady_state')].tolist()\n",
    "#save it to file (and reverse code)\n",
    "(1 - confound_file[col]).to_csv('sub-0216_nonSteady.1D', index=False, header=False, sep = \" \")\n",
    "\n",
    "confound_file[['csf', 'white_matter', 'global_signal']].to_csv('WM_csf_gs.csv', index=False)\n"
   ]
  },
  {
   "cell_type": "code",
   "execution_count": 64,
   "id": "8366365c-d955-4988-b624-d96014db1897",
   "metadata": {},
   "outputs": [],
   "source": [
    "# build a function and run all subjects\n",
    "def confoundFiles(conf_file):\n",
    "    #load file\n",
    "    confound_file = pd.read_csv(conf_file, sep='\\t')\n",
    "    sub = os.path.basename(conf_file).split('_')[0]\n",
    "    # grab non steady state\n",
    "    col = confound_file.columns[confound_file.columns.str.startswith('non_steady_state')].tolist()\n",
    "    print(len(col))\n",
    "    #save it to file (and reverse code)\n",
    "    if len(col)>0:\n",
    "        (1 - confound_file[col]).to_csv(f'{sub}_nonSteady.1D', index=False, sep=\" \", header=False)\n",
    "    # save csf_whitematter and global_signal\n",
    "    confound_file[['csf', 'white_matter', 'global_signal']].to_csv(f'{sub}_WM_csf_gs.csv', index=False)\n"
   ]
  },
  {
   "cell_type": "code",
   "execution_count": 65,
   "id": "b43a0ce4-cd17-492a-a984-22db5cea7835",
   "metadata": {},
   "outputs": [],
   "source": [
    "conf_files = glob.glob('/gpfs/gibbs/pi/levy_ifat/Ziv/NIH-PTSD_Rest/derivatives/fmriprep/sub-*/ses-1/func/sub-*_ses-1_task-rest_desc-confounds_regressors.tsv')"
   ]
  },
  {
   "cell_type": "code",
   "execution_count": 5,
   "id": "0f7c6699-1107-43fa-ada0-4abcd81de1d8",
   "metadata": {},
   "outputs": [
    {
     "data": {
      "text/plain": [
       "159"
      ]
     },
     "execution_count": 5,
     "metadata": {},
     "output_type": "execute_result"
    }
   ],
   "source": [
    "len(conf_files)"
   ]
  },
  {
   "cell_type": "code",
   "execution_count": 67,
   "id": "8e191dbf-4299-41de-ac10-a8f27c36b183",
   "metadata": {
    "collapsed": true,
    "jupyter": {
     "outputs_hidden": true
    },
    "tags": []
   },
   "outputs": [
    {
     "name": "stdout",
     "output_type": "stream",
     "text": [
      "0\n",
      "0\n",
      "0\n",
      "0\n",
      "0\n",
      "0\n",
      "0\n",
      "0\n",
      "0\n",
      "0\n",
      "0\n",
      "0\n",
      "0\n",
      "5\n",
      "0\n",
      "0\n",
      "0\n",
      "0\n",
      "0\n",
      "0\n",
      "2\n",
      "0\n",
      "0\n",
      "0\n",
      "0\n",
      "0\n",
      "0\n",
      "2\n",
      "0\n",
      "0\n",
      "0\n",
      "0\n",
      "0\n",
      "1\n",
      "0\n",
      "0\n",
      "0\n",
      "0\n",
      "0\n",
      "0\n",
      "0\n",
      "0\n",
      "1\n",
      "0\n",
      "0\n",
      "0\n",
      "0\n",
      "0\n",
      "0\n",
      "0\n",
      "0\n",
      "0\n",
      "0\n",
      "0\n",
      "0\n",
      "0\n",
      "0\n",
      "0\n",
      "0\n",
      "0\n",
      "0\n",
      "0\n",
      "0\n",
      "0\n",
      "0\n",
      "0\n",
      "0\n",
      "0\n",
      "1\n",
      "0\n",
      "0\n",
      "0\n",
      "1\n",
      "0\n",
      "1\n",
      "0\n",
      "1\n",
      "0\n",
      "0\n",
      "0\n",
      "0\n",
      "0\n",
      "0\n",
      "0\n",
      "0\n",
      "0\n",
      "0\n",
      "0\n",
      "0\n",
      "0\n",
      "0\n",
      "0\n",
      "0\n",
      "0\n",
      "0\n",
      "0\n",
      "0\n",
      "0\n",
      "0\n",
      "0\n",
      "0\n",
      "0\n",
      "0\n",
      "0\n",
      "0\n",
      "0\n",
      "0\n",
      "0\n",
      "0\n",
      "0\n",
      "0\n",
      "0\n",
      "0\n",
      "0\n",
      "0\n",
      "0\n",
      "0\n",
      "0\n",
      "0\n",
      "0\n",
      "0\n",
      "0\n",
      "0\n",
      "0\n",
      "0\n",
      "0\n",
      "0\n",
      "0\n",
      "1\n",
      "0\n",
      "0\n",
      "0\n",
      "0\n",
      "0\n",
      "1\n",
      "1\n",
      "0\n",
      "0\n",
      "0\n",
      "0\n",
      "1\n",
      "0\n",
      "0\n",
      "0\n",
      "0\n",
      "0\n",
      "0\n",
      "0\n",
      "0\n",
      "0\n",
      "0\n",
      "0\n",
      "0\n",
      "0\n",
      "0\n",
      "0\n"
     ]
    }
   ],
   "source": [
    "for file in conf_files[3:]:\n",
    "    confoundFiles(file)"
   ]
  },
  {
   "cell_type": "code",
   "execution_count": 70,
   "id": "ea8f6798-ab21-47a3-9a73-cbfbbde58895",
   "metadata": {},
   "outputs": [],
   "source": [
    "# collect subjects with nonsteady\n",
    "nonSteady = glob.glob('*.1D')\n",
    "allSubs = glob.glob('sub-*_WM_csf_gs.csv')"
   ]
  },
  {
   "cell_type": "code",
   "execution_count": 69,
   "id": "214c807d-efa1-48df-a9ef-c9ab02841f34",
   "metadata": {},
   "outputs": [
    {
     "data": {
      "text/plain": [
       "['sub-2512_nonSteady.1D',\n",
       " 'sub-2155_nonSteady.1D',\n",
       " 'sub-0678_nonSteady.1D',\n",
       " 'sub-0193_nonSteady.1D',\n",
       " 'sub-2846_nonSteady.1D',\n",
       " 'sub-2326_nonSteady.1D',\n",
       " 'sub-0081_nonSteady.1D',\n",
       " 'sub-2267_nonSteady.1D',\n",
       " 'sub-2772_nonSteady.1D',\n",
       " 'sub-3659_nonSteady.1D',\n",
       " 'sub-1887_nonSteady.1D',\n",
       " 'sub-2468_nonSteady.1D',\n",
       " 'sub-3319_nonSteady.1D']"
      ]
     },
     "execution_count": 69,
     "metadata": {},
     "output_type": "execute_result"
    }
   ],
   "source": [
    "nonSteady"
   ]
  },
  {
   "cell_type": "code",
   "execution_count": 72,
   "id": "b13501a9-8bee-4e37-8964-db177c75666d",
   "metadata": {},
   "outputs": [],
   "source": [
    "subject_list = []\n",
    "for file in allSubs:\n",
    "    sub = os.path.basename(file).split('_')[0]\n",
    "    subject_list.append(sub)"
   ]
  },
  {
   "cell_type": "code",
   "execution_count": 74,
   "id": "db444c30-a3cc-4f71-bd71-30442d3bfcd6",
   "metadata": {},
   "outputs": [],
   "source": [
    "subject_list_nonSteay = []\n",
    "for file in nonSteady:\n",
    "    sub = os.path.basename(file).split('_')[0]\n",
    "    subject_list_nonSteay.append(sub)"
   ]
  },
  {
   "cell_type": "code",
   "execution_count": 81,
   "id": "50fa62f6-e368-4879-a9cb-d3507cfa5532",
   "metadata": {},
   "outputs": [
    {
     "data": {
      "text/plain": [
       "array(['sub-3671', 'sub-0687', 'sub-1632', 'sub-1060', 'sub-0545',\n",
       "       'sub-1750', 'sub-1216', 'sub-1749', 'sub-2942', 'sub-1062',\n",
       "       'sub-3135', 'sub-3354', 'sub-1038', 'sub-2958', 'sub-2608',\n",
       "       'sub-2646', 'sub-0435', 'sub-1936', 'sub-1428', 'sub-1460',\n",
       "       'sub-2714', 'sub-0758', 'sub-1127', 'sub-3146', 'sub-1316',\n",
       "       'sub-2108', 'sub-1551', 'sub-2645', 'sub-2759', 'sub-2199',\n",
       "       'sub-1718', 'sub-1565', 'sub-1016', 'sub-1393', 'sub-2070',\n",
       "       'sub-2064', 'sub-2105', 'sub-1513', 'sub-0695', 'sub-3256',\n",
       "       'sub-2520', 'sub-1990', 'sub-0939', 'sub-2680', 'sub-1766',\n",
       "       'sub-1954', 'sub-2025', 'sub-0034', 'sub-2288', 'sub-2405',\n",
       "       'sub-3541', 'sub-2124', 'sub-3128', 'sub-2113', 'sub-1148',\n",
       "       'sub-1888', 'sub-3299', 'sub-2169', 'sub-1343', 'sub-1800',\n",
       "       'sub-1498', 'sub-0216', 'sub-0366', 'sub-2377', 'sub-2196',\n",
       "       'sub-3143', 'sub-1163', 'sub-1255', 'sub-2392', 'sub-1775',\n",
       "       'sub-1333', 'sub-2590', 'sub-1010', 'sub-2228', 'sub-0497',\n",
       "       'sub-2527', 'sub-3646', 'sub-3315', 'sub-0708', 'sub-3625',\n",
       "       'sub-1306', 'sub-3408', 'sub-3148', 'sub-0454', 'sub-3612',\n",
       "       'sub-2492', 'sub-3191', 'sub-3025', 'sub-1361', 'sub-2037',\n",
       "       'sub-0643', 'sub-1909', 'sub-1482', 'sub-1803', 'sub-1238',\n",
       "       'sub-2032', 'sub-1159', 'sub-3586', 'sub-2236', 'sub-0839',\n",
       "       'sub-2099', 'sub-3259', 'sub-3533', 'sub-3056', 'sub-0875',\n",
       "       'sub-2019', 'sub-2333', 'sub-2828', 'sub-1519', 'sub-2028',\n",
       "       'sub-2544', 'sub-2530', 'sub-3121', 'sub-0682', 'sub-2845',\n",
       "       'sub-1904', 'sub-2027', 'sub-3029', 'sub-0727', 'sub-0862',\n",
       "       'sub-2010', 'sub-1959', 'sub-0790', 'sub-2417', 'sub-1319',\n",
       "       'sub-2692', 'sub-2795', 'sub-2164', 'sub-3447', 'sub-1470',\n",
       "       'sub-3610', 'sub-2423', 'sub-0365', 'sub-2393', 'sub-1350',\n",
       "       'sub-2896', 'sub-0005', 'sub-2701', 'sub-2142', 'sub-1716',\n",
       "       'sub-1331', 'sub-2167', 'sub-1860', 'sub-2823', 'sub-1619',\n",
       "       'sub-0789'], dtype='<U8')"
      ]
     },
     "execution_count": 81,
     "metadata": {},
     "output_type": "execute_result"
    }
   ],
   "source": [
    "# grab list of subject without nonsteady files\n",
    "np.array(list(set(subject_list) - set(subject_list_nonSteay)))\n",
    "#list(set(list_2) - set(list_1))"
   ]
  }
 ],
 "metadata": {
  "kernelspec": {
   "display_name": "Python 3 (ipykernel)",
   "language": "python",
   "name": "python3"
  },
  "language_info": {
   "codemirror_mode": {
    "name": "ipython",
    "version": 3
   },
   "file_extension": ".py",
   "mimetype": "text/x-python",
   "name": "python",
   "nbconvert_exporter": "python",
   "pygments_lexer": "ipython3",
   "version": "3.9.9"
  }
 },
 "nbformat": 4,
 "nbformat_minor": 5
}
