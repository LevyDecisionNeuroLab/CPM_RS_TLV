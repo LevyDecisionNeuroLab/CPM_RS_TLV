{
 "cells": [
  {
   "cell_type": "markdown",
   "id": "22497012-e03e-4c5d-8bee-19d7f158429e",
   "metadata": {},
   "source": [
    "# Extracting time series for each ROI\n",
    "--------------------------------------\n",
    "- This will take the already clean nifti files (created using sciprt in the /cleaning folder), and extract timecourse per ROI\n",
    "- Currently using Shen parcellation, but can be changed easily\n"
   ]
  },
  {
   "cell_type": "code",
   "execution_count": 18,
   "id": "79fd4cdd-af4f-438f-815b-9baa9bf99f88",
   "metadata": {},
   "outputs": [],
   "source": [
    "import pandas as pd \n",
    "from nilearn.maskers import NiftiLabelsMasker\n",
    "from nilearn.connectome import ConnectivityMeasure\n",
    "from nilearn import datasets\n",
    "import numpy as np\n",
    "import nilearn.plotting\n",
    "import os\n",
    "import glob\n",
    "import nilearn\n",
    "from joblib import Parallel, delayed\n",
    "import matplotlib.pyplot as plt\n",
    "%config Completer.use_jedi = False"
   ]
  },
  {
   "cell_type": "code",
   "execution_count": 19,
   "id": "87348a33-b8ad-4652-a6e4-4bf839f4606c",
   "metadata": {},
   "outputs": [],
   "source": [
    "# set output dir\n",
    "output_dir = '/gpfs/gibbs/pi/levy_ifat/Or/ZivResults/timecourse/'"
   ]
  },
  {
   "cell_type": "code",
   "execution_count": 20,
   "id": "ece7a96b-6d14-4802-aaae-2d0c7054b50e",
   "metadata": {},
   "outputs": [],
   "source": [
    "# load atlas - shen parcellation\n",
    "shen = '/gpfs/gibbs/pi/levy_ifat/Or/ROI/shenPar/shen_2mm_268_parcellation.nii.gz'\n",
    "#yeo = datasets.fetch_atlas_yeo_2011()"
   ]
  },
  {
   "cell_type": "code",
   "execution_count": 21,
   "id": "60670576-c10d-4e04-9438-0fdbaeb89089",
   "metadata": {},
   "outputs": [],
   "source": [
    "# create masker to extract functional data within atlas parcels\n",
    "masker = NiftiLabelsMasker(labels_img=shen, standardize=True,\n",
    "                           memory='nilearn_cache')"
   ]
  },
  {
   "cell_type": "code",
   "execution_count": 24,
   "id": "41c22991-038f-41e3-9930-90ea4014007a",
   "metadata": {},
   "outputs": [
    {
     "data": {
      "text/plain": [
       "131"
      ]
     },
     "execution_count": 24,
     "metadata": {},
     "output_type": "execute_result"
    }
   ],
   "source": [
    "# grab functional files (cleaned one)\n",
    "func_files = glob.glob('/gpfs/gibbs/pi/levy_ifat/Or/ZivResults/afni_cleaning_hariri/_subject_id_*/cleanAfni/sub-*_ses-1_task-hariri_space-MNI152NLin2009cAsym_desc-smoothAROMAnonaggr_bold_tproject.nii.gz')\n",
    "len(func_files)"
   ]
  },
  {
   "cell_type": "code",
   "execution_count": 25,
   "id": "a06218e8-2c83-45a1-a09b-494854b04427",
   "metadata": {},
   "outputs": [],
   "source": [
    "task = 'hariri' # domino or hariri\n",
    "def masking(funcFile):\n",
    "    sub = os.path.basename(funcFile).split('_')[0]\n",
    "    # takes functional file and returns Pandas dataframe for average timeseries of each of these ROIs\n",
    "    a = masker.fit_transform(funcFile)\n",
    "    subDF = pd.DataFrame(a)\n",
    "    # save it\n",
    "    subDF.to_csv(f'{output_dir}{sub}_shen-2mm_{task}.csv', index=False)\n",
    "    return subDF"
   ]
  },
  {
   "cell_type": "code",
   "execution_count": null,
   "id": "d3f22cf1-de00-4d39-b6b3-e0423be2f5b4",
   "metadata": {},
   "outputs": [],
   "source": [
    "# run parallel\n",
    "results = Parallel(n_jobs=8)(delayed(masking)(funcFile) for funcFile in func_files)"
   ]
  }
 ],
 "metadata": {
  "kernelspec": {
   "display_name": "Python 3 (ipykernel)",
   "language": "python",
   "name": "python3"
  },
  "language_info": {
   "codemirror_mode": {
    "name": "ipython",
    "version": 3
   },
   "file_extension": ".py",
   "mimetype": "text/x-python",
   "name": "python",
   "nbconvert_exporter": "python",
   "pygments_lexer": "ipython3",
   "version": "3.9.9"
  }
 },
 "nbformat": 4,
 "nbformat_minor": 5
}
